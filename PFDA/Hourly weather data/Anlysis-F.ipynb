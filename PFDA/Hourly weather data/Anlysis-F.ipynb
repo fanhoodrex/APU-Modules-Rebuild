{
 "cells": [
  {
   "cell_type": "code",
   "execution_count": 13,
   "metadata": {},
   "outputs": [
    {
     "name": "stderr",
     "output_type": "stream",
     "text": [
      "Warning message:\n",
      "\"package 'ggplot2' was built under R version 4.0.5\"\n"
     ]
    }
   ],
   "source": [
    "# install.packages() \n",
    "library(ggplot2)"
   ]
  },
  {
   "cell_type": "code",
   "execution_count": 4,
   "metadata": {},
   "outputs": [
    {
     "name": "stdout",
     "output_type": "stream",
     "text": [
      "'data.frame':\t17412 obs. of  15 variables:\n",
      " $ origin    : chr  \"JFK\" \"JFK\" \"JFK\" \"JFK\" ...\n",
      " $ year      : int  2013 2013 2013 2013 2013 2013 2013 2013 2013 2013 ...\n",
      " $ month     : int  1 1 1 1 1 1 1 1 1 1 ...\n",
      " $ day       : int  1 1 1 1 1 1 1 1 1 1 ...\n",
      " $ hour      : int  1 2 3 4 5 6 7 8 9 10 ...\n",
      " $ temp      : num  39 39 39.9 39.9 39 ...\n",
      " $ dewp      : num  26.1 26.1 27 28 27 ...\n",
      " $ humid     : num  59.4 59.4 59.5 62.2 61.6 ...\n",
      " $ wind_dir  : int  260 270 260 250 260 260 260 260 260 260 ...\n",
      " $ wind_speed: num  12.7 11.5 15 17.3 15 ...\n",
      " $ wind_gust : num  NA NA NA NA NA NA NA NA NA NA ...\n",
      " $ precip    : num  0 0 0 0 0 0 0 0 0 0 ...\n",
      " $ pressure  : num  1013 1012 1013 1013 1012 ...\n",
      " $ visib     : num  10 10 10 10 10 10 10 10 10 10 ...\n",
      " $ time_hour : chr  \"01/01/2013 01:00\" \"01/01/2013 02:00\" \"01/01/2013 03:00\" \"01/01/2013 04:00\" ...\n"
     ]
    }
   ],
   "source": [
    "df_csv = read.csv(\"Hourly_weather_data.csv\", header = TRUE)\n",
    "str(df_csv) # check the data types of each attributes"
   ]
  },
  {
   "cell_type": "code",
   "execution_count": 3,
   "metadata": {},
   "outputs": [
    {
     "data": {
      "text/plain": [
       "    origin               year          month             day       \n",
       " Length:17412       Min.   :2013   Min.   : 1.000   Min.   : 1.00  \n",
       " Class :character   1st Qu.:2013   1st Qu.: 4.000   1st Qu.: 8.00  \n",
       " Mode  :character   Median :2013   Median : 7.000   Median :16.00  \n",
       "                    Mean   :2013   Mean   : 6.504   Mean   :15.68  \n",
       "                    3rd Qu.:2013   3rd Qu.: 9.000   3rd Qu.:23.00  \n",
       "                    Max.   :2013   Max.   :12.000   Max.   :31.00  \n",
       "                                                                   \n",
       "      hour            temp            dewp           humid       \n",
       " Min.   : 0.00   Min.   :12.02   Min.   :-9.94   Min.   : 12.74  \n",
       " 1st Qu.: 6.00   1st Qu.:39.92   1st Qu.:26.06   1st Qu.: 46.85  \n",
       " Median :11.00   Median :55.04   Median :42.08   Median : 61.15  \n",
       " Mean   :11.49   Mean   :55.12   Mean   :41.23   Mean   : 62.26  \n",
       " 3rd Qu.:17.00   3rd Qu.:69.98   3rd Qu.:57.02   3rd Qu.: 78.66  \n",
       " Max.   :23.00   Max.   :98.96   Max.   :78.08   Max.   :100.00  \n",
       "                                                                 \n",
       "    wind_dir       wind_speed       wind_gust         precip        \n",
       " Min.   :  0.0   Min.   : 0.000   Min.   :16.11   Min.   :0.000000  \n",
       " 1st Qu.:120.0   1st Qu.: 6.905   1st Qu.:21.86   1st Qu.:0.000000  \n",
       " Median :220.0   Median :10.357   Median :25.32   Median :0.000000  \n",
       " Mean   :201.9   Mean   :11.046   Mean   :26.18   Mean   :0.004183  \n",
       " 3rd Qu.:300.0   3rd Qu.:14.960   3rd Qu.:29.92   3rd Qu.:0.000000  \n",
       " Max.   :360.0   Max.   :42.579   Max.   :66.75   Max.   :0.820000  \n",
       " NA's   :204     NA's   :3        NA's   :13877                     \n",
       "    pressure          visib         time_hour        \n",
       " Min.   : 983.8   Min.   : 0.000   Length:17412      \n",
       " 1st Qu.:1012.9   1st Qu.:10.000   Class :character  \n",
       " Median :1017.7   Median :10.000   Mode  :character  \n",
       " Mean   :1017.9   Mean   : 9.245                     \n",
       " 3rd Qu.:1023.1   3rd Qu.:10.000                     \n",
       " Max.   :1042.1   Max.   :10.000                     \n",
       " NA's   :1794                                        "
      ]
     },
     "metadata": {},
     "output_type": "display_data"
    }
   ],
   "source": [
    "summary(df_csv) # summary data on each attribute"
   ]
  },
  {
   "cell_type": "code",
   "execution_count": 5,
   "metadata": {},
   "outputs": [
    {
     "data": {
      "text/html": [
       "<style>\n",
       ".dl-inline {width: auto; margin:0; padding: 0}\n",
       ".dl-inline>dt, .dl-inline>dd {float: none; width: auto; display: inline-block}\n",
       ".dl-inline>dt::after {content: \":\\0020\"; padding-right: .5ex}\n",
       ".dl-inline>dt:not(:first-of-type) {padding-left: .5ex}\n",
       "</style><dl class=dl-inline><dt>origin</dt><dd>0</dd><dt>year</dt><dd>0</dd><dt>month</dt><dd>0</dd><dt>day</dt><dd>0</dd><dt>hour</dt><dd>0</dd><dt>temp</dt><dd>0</dd><dt>dewp</dt><dd>0</dd><dt>humid</dt><dd>0</dd><dt>wind_dir</dt><dd>204</dd><dt>wind_speed</dt><dd>3</dd><dt>wind_gust</dt><dd>13877</dd><dt>precip</dt><dd>0</dd><dt>pressure</dt><dd>1794</dd><dt>visib</dt><dd>0</dd><dt>time_hour</dt><dd>0</dd></dl>\n"
      ],
      "text/latex": [
       "\\begin{description*}\n",
       "\\item[origin] 0\n",
       "\\item[year] 0\n",
       "\\item[month] 0\n",
       "\\item[day] 0\n",
       "\\item[hour] 0\n",
       "\\item[temp] 0\n",
       "\\item[dewp] 0\n",
       "\\item[humid] 0\n",
       "\\item[wind\\textbackslash{}\\_dir] 204\n",
       "\\item[wind\\textbackslash{}\\_speed] 3\n",
       "\\item[wind\\textbackslash{}\\_gust] 13877\n",
       "\\item[precip] 0\n",
       "\\item[pressure] 1794\n",
       "\\item[visib] 0\n",
       "\\item[time\\textbackslash{}\\_hour] 0\n",
       "\\end{description*}\n"
      ],
      "text/markdown": [
       "origin\n",
       ":   0year\n",
       ":   0month\n",
       ":   0day\n",
       ":   0hour\n",
       ":   0temp\n",
       ":   0dewp\n",
       ":   0humid\n",
       ":   0wind_dir\n",
       ":   204wind_speed\n",
       ":   3wind_gust\n",
       ":   13877precip\n",
       ":   0pressure\n",
       ":   1794visib\n",
       ":   0time_hour\n",
       ":   0\n",
       "\n"
      ],
      "text/plain": [
       "    origin       year      month        day       hour       temp       dewp \n",
       "         0          0          0          0          0          0          0 \n",
       "     humid   wind_dir wind_speed  wind_gust     precip   pressure      visib \n",
       "         0        204          3      13877          0       1794          0 \n",
       " time_hour \n",
       "         0 "
      ]
     },
     "metadata": {},
     "output_type": "display_data"
    }
   ],
   "source": [
    "# summary all the missing value for each column using the sapply function\n",
    "sapply(df_csv, function(x) sum(is.na(x)))"
   ]
  },
  {
   "cell_type": "code",
   "execution_count": 10,
   "metadata": {},
   "outputs": [
    {
     "ename": "ERROR",
     "evalue": "Error in parse(text = x, srcfile = src): <text>:2:89: unexpected ','\n1: # replacing the missing value by the mean for pressure column\n2: df_csv$wind_gust = ifelse(is.na(df_csv$wind_gust),ave(df_csv$wind_gust,FUN = function(x),\n                                                                                           ^\n",
     "output_type": "error",
     "traceback": [
      "Error in parse(text = x, srcfile = src): <text>:2:89: unexpected ','\n1: # replacing the missing value by the mean for pressure column\n2: df_csv$wind_gust = ifelse(is.na(df_csv$wind_gust),ave(df_csv$wind_gust,FUN = function(x),\n                                                                                           ^\nTraceback:\n"
     ]
    }
   ],
   "source": [
    "# replacing the missing value by the mean for pressure column\n",
    "df_csv$wind_gust = ifelse(is.na(df_csv$wind_gust),ave(df_csv$wind_gust,FUN = function(x),\n",
    "                        mean(x, na.rm = 'TRUE')),\n",
    "                        df_csv$wind_gust)"
   ]
  },
  {
   "cell_type": "code",
   "execution_count": 9,
   "metadata": {},
   "outputs": [
    {
     "data": {
      "text/html": [
       "<style>\n",
       ".list-inline {list-style: none; margin:0; padding: 0}\n",
       ".list-inline>li {display: inline-block}\n",
       ".list-inline>li:not(:last-child)::after {content: \"\\00b7\"; padding: 0 .5ex}\n",
       "</style>\n",
       "<ol class=list-inline><li>26.06</li><li>26.06</li><li>26.96</li><li>28.04</li><li>26.96</li><li>26.96</li></ol>\n"
      ],
      "text/latex": [
       "\\begin{enumerate*}\n",
       "\\item 26.06\n",
       "\\item 26.06\n",
       "\\item 26.96\n",
       "\\item 28.04\n",
       "\\item 26.96\n",
       "\\item 26.96\n",
       "\\end{enumerate*}\n"
      ],
      "text/markdown": [
       "1. 26.06\n",
       "2. 26.06\n",
       "3. 26.96\n",
       "4. 28.04\n",
       "5. 26.96\n",
       "6. 26.96\n",
       "\n",
       "\n"
      ],
      "text/plain": [
       "[1] 26.06 26.06 26.96 28.04 26.96 26.96"
      ]
     },
     "metadata": {},
     "output_type": "display_data"
    }
   ],
   "source": [
    "# Replacing the column by Zero for all values in dewp Columns\n",
    "df_csv[[\"dewp\"]][is.na(df_csv[[\"dewp\"]])] <- 0\n",
    "head(df_csv$dewp)"
   ]
  },
  {
   "cell_type": "code",
   "execution_count": 11,
   "metadata": {},
   "outputs": [
    {
     "ename": "ERROR",
     "evalue": "Error in parse(text = x, srcfile = src): <text>:9:0: unexpected end of input\n7:     x[x > (qntile[2] + H)] <- caps[2]\n8:     return(x)\n  ^\n",
     "output_type": "error",
     "traceback": [
      "Error in parse(text = x, srcfile = src): <text>:9:0: unexpected end of input\n7:     x[x > (qntile[2] + H)] <- caps[2]\n8:     return(x)\n  ^\nTraceback:\n"
     ]
    }
   ],
   "source": [
    "# removing the outlier inside pressure column\n",
    "outlier_norm <- function(x){\n",
    "    qntile <- quantile(x, probs=c(.25, .75))\n",
    "    caps <- quantile(x, probs=c(.05, .95))\n",
    "    H <- 1.5 * IQR(x, na.rm = T)\n",
    "    x[x < (qntile[1] - H)] <- caps[1]\n",
    "    x[x > (qntile[2] + H)] <- caps[2]\n",
    "    return(x)"
   ]
  },
  {
   "cell_type": "code",
   "execution_count": 14,
   "metadata": {},
   "outputs": [
    {
     "data": {
      "text/plain": [
       "     \n",
       "      2013\n",
       "  JFK  0.5\n",
       "  LGA  0.5"
      ]
     },
     "metadata": {},
     "output_type": "display_data"
    },
    {
     "data": {
      "text/plain": [
       "     \n",
       "           1      2      3      4      5      6      7      8      9     10\n",
       "  JFK 0.0426 0.0385 0.0426 0.0413 0.0427 0.0414 0.0427 0.0424 0.0414 0.0424\n",
       "  LGA 0.0426 0.0385 0.0426 0.0414 0.0427 0.0414 0.0427 0.0424 0.0414 0.0424\n",
       "     \n",
       "          11     12\n",
       "  JFK 0.0409 0.0411\n",
       "  LGA 0.0409 0.0411"
      ]
     },
     "metadata": {},
     "output_type": "display_data"
    },
    {
     "name": "stderr",
     "output_type": "stream",
     "text": [
      "`stat_bin()` using `bins = 30`. Pick better value with `binwidth`.\n",
      "\n"
     ]
    },
    {
     "data": {
      "image/png": "[encoded data removed]",
      "text/plain": [
       "plot without title"
      ]
     },
     "metadata": {
      "image/png": {
       "height": 420,
       "width": 420
      }
     },
     "output_type": "display_data"
    }
   ],
   "source": [
    "options(scipen = 999, digits = 3) # Simplify display formats\n",
    "tab_cnt_year <- table(df_csv$origin,df_csv$year) # contingency table by origin and year fields\n",
    "tab_cnt_month <- table(df_csv$origin,df_csv$month) # contingency table by origin and month fields\n",
    "prop.table(tab_cnt_year) # inspect the tab_cnt_year in proportion\n",
    "prop.table(tab_cnt_month) # inspect the tab_cnt_month in proportion \n",
    "ggplot(df_csv, aes(x=month, fill=origin)) + # plot the contingency table \n",
    "\t  geom_histogram() +\n",
    "\t  facet_wrap(~origin) "
   ]
  },
  {
   "cell_type": "code",
   "execution_count": 17,
   "metadata": {},
   "outputs": [
    {
     "ename": "ERROR",
     "evalue": "Error in parse(text = x, srcfile = src): <text>:4:0: unexpected end of input\n2: ggplot(df_csv,aes(x = temp)) + geom_density() + # Density plot \n3: ggplot(df_csv,aes(x=1,y=temp)) + geom_boxplot() + # Boxplot \n  ^\n",
     "output_type": "error",
     "traceback": [
      "Error in parse(text = x, srcfile = src): <text>:4:0: unexpected end of input\n2: ggplot(df_csv,aes(x = temp)) + geom_density() + # Density plot \n3: ggplot(df_csv,aes(x=1,y=temp)) + geom_boxplot() + # Boxplot \n  ^\nTraceback:\n"
     ]
    }
   ],
   "source": [
    "ggplot(df_csv,aes(x = temp)) + geom_histogram() + # histogram plot \n",
    "ggplot(df_csv,aes(x = temp)) + geom_density() + # Density plot \n",
    "ggplot(df_csv,aes(x=1,y=temp)) + geom_boxplot() + # Boxplot"
   ]
  }
 ],
 "metadata": {
  "kernelspec": {
   "display_name": "R",
   "language": "R",
   "name": "ir"
  },
  "language_info": {
   "codemirror_mode": "r",
   "file_extension": ".r",
   "mimetype": "text/x-r-source",
   "name": "R",
   "pygments_lexer": "r",
   "version": "4.0.4"
  },
  "orig_nbformat": 4
 },
 "nbformat": 4,
 "nbformat_minor": 2
}
