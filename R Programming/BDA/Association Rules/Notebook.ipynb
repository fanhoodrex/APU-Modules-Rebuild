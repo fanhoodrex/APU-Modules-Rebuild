{
 "cells": [
  {
   "cell_type": "code",
   "execution_count": null,
   "metadata": {},
   "outputs": [],
   "source": [
    "install.packages(c(\"arules\", \"arulesViz\",\"RColorBrewer\"))\n",
    "library(arules)\n",
    "library (arulesViz)\n",
    "library(RColorBrewer)"
   ]
  },
  {
   "cell_type": "code",
   "execution_count": null,
   "metadata": {},
   "outputs": [],
   "source": [
    "data(\"Groceries\"); # read inbuild datset\n",
    "class(Groceries);\n",
    "str(Groceries);\n",
    "# Groceries = as(data.frame(lapply(Groceries, as.character), stringsAsFactors=T), \"transactions\")\n",
    "inspect(head(Groceries, 2));"
   ]
  },
  {
   "cell_type": "code",
   "execution_count": null,
   "metadata": {},
   "outputs": [],
   "source": [
    "grocery_rules <- apriori(Groceries,\n",
    "                         parameter = list(support = 0.03,\n",
    "                                          confidence = 0.50))\n",
    "grocery_rules"
   ]
  },
  {
   "cell_type": "code",
   "execution_count": null,
   "metadata": {},
   "outputs": [],
   "source": [
    "b <- inspect(head(sort(grocery_rules,by = \"confidence\"),2));\n",
    "b"
   ]
  },
  {
   "cell_type": "code",
   "execution_count": null,
   "metadata": {},
   "outputs": [],
   "source": [
    "wholemilk_rules <- apriori(data=Groceries,\n",
    "                           parameter = list (supp=0.02,conf = 0.5),\n",
    "                           appearance = list (rhs=\"whole milk\"));\n",
    "grocery_rules"
   ]
  },
  {
   "cell_type": "code",
   "execution_count": null,
   "metadata": {},
   "outputs": [],
   "source": [
    "c <- inspect(head(sort(wholemilk_rules, by = \"confidence\"), 2));\n",
    "c"
   ]
  },
  {
   "cell_type": "code",
   "execution_count": null,
   "metadata": {},
   "outputs": [],
   "source": [
    "grocery_rules_increased_support <- apriori(Groceries,\n",
    "                                           parameter = list(support = 0.03,\n",
    "                                                            confidence = 0.1))\n",
    "grocery_rules_increased_support"
   ]
  },
  {
   "cell_type": "code",
   "execution_count": null,
   "metadata": {},
   "outputs": [],
   "source": [
    "# solve the outcome for grocery_rules_increased_support\n",
    "d <- inspect(head(sort(grocery_rules_increased_support, by = \"confidence\"), 2));"
   ]
  },
  {
   "cell_type": "code",
   "execution_count": null,
   "metadata": {},
   "outputs": [],
   "source": [
    "# This generates only one rule in the output.\n",
    "subsets <- which(colSums(is.subset(grocery_rules, grocery_rules)) > 1);\n",
    "grocery_rules <- grocery_rules[-subsets];"
   ]
  },
  {
   "cell_type": "code",
   "execution_count": null,
   "metadata": {},
   "outputs": [],
   "source": [
    "# This gives more than 1,500,000 rules\n",
    "rules <- apriori(Groceries,\n",
    "                 parameter = list(supp = 0.01,\n",
    "                                  conf = 0.5))"
   ]
  },
  {
   "cell_type": "code",
   "execution_count": null,
   "metadata": {},
   "outputs": [],
   "source": [
    "# This gives 982,000 rules.\n",
    "rules_chi2 <- apriori(Groceries,\n",
    "                      parameter = list(supp = 0.01,\n",
    "                                       conf = 0.5,\n",
    "                                       arem = \"chi2\"))"
   ]
  },
  {
   "cell_type": "code",
   "execution_count": null,
   "metadata": {},
   "outputs": [],
   "source": [
    "rules <- apriori(Groceries,\n",
    "                 parameter = list(supp = 0.01, \n",
    "                                  conf = 0.2))"
   ]
  },
  {
   "cell_type": "code",
   "execution_count": null,
   "metadata": {},
   "outputs": [],
   "source": [
    "inspect(rules[1:10])"
   ]
  },
  {
   "cell_type": "code",
   "execution_count": null,
   "metadata": {},
   "outputs": [],
   "source": [
    "arules::itemFrequencyPlot(Groceries, topN = 20, # Use the itemFrequencyPlot provided by arules package\n",
    "                          col = brewer.pal(8, 'Paste12'),\n",
    "                          main = 'Relative Item Frequency Plot',\n",
    "                          type = \"relative\",\n",
    "                          ylab = 'Item Frequency (Relative)')"
   ]
  }
 ],
 "metadata": {
  "interpreter": {
   "hash": "fe06f96167c4fc64a78c238d993189072a4e72b444216e36203d6f96126eaf0a"
  },
  "kernelspec": {
   "display_name": "R",
   "language": "R",
   "name": "ir"
  },
  "language_info": {
   "codemirror_mode": {
    "name": "ipython",
    "version": 3
   },
   "file_extension": ".py",
   "mimetype": "text/x-python",
   "name": "python",
   "nbconvert_exporter": "python",
   "pygments_lexer": "ipython3",
   "version": "3.9.2"
  },
  "orig_nbformat": 4
 },
 "nbformat": 4,
 "nbformat_minor": 2
}
