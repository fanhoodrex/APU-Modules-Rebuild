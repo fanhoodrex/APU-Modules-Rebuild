{
 "cells": [
  {
   "cell_type": "code",
   "execution_count": 1,
   "metadata": {},
   "outputs": [
    {
     "data": {
      "text/html": [
       "'mydata'"
      ],
      "text/latex": [
       "'mydata'"
      ],
      "text/markdown": [
       "'mydata'"
      ],
      "text/plain": [
       "[1] \"mydata\""
      ]
     },
     "metadata": {},
     "output_type": "display_data"
    }
   ],
   "source": [
    "mydata <- read.csv(file.choose())\n",
    "ls()"
   ]
  },
  {
   "cell_type": "code",
   "execution_count": 2,
   "metadata": {},
   "outputs": [
    {
     "data": {
      "text/html": [
       "<table class=\"dataframe\">\n",
       "<caption>A data.frame: 6 × 22</caption>\n",
       "<thead>\n",
       "\t<tr><th></th><th scope=col>LB</th><th scope=col>AC</th><th scope=col>FM</th><th scope=col>UC</th><th scope=col>DL</th><th scope=col>DS</th><th scope=col>DP</th><th scope=col>ASTV</th><th scope=col>MSTV</th><th scope=col>ALTV</th><th scope=col>...</th><th scope=col>Min</th><th scope=col>Max</th><th scope=col>Nmax</th><th scope=col>Nzeros</th><th scope=col>Mode</th><th scope=col>Mean</th><th scope=col>Median</th><th scope=col>Variance</th><th scope=col>Tendency</th><th scope=col>NSP</th></tr>\n",
       "\t<tr><th></th><th scope=col>&lt;int&gt;</th><th scope=col>&lt;dbl&gt;</th><th scope=col>&lt;dbl&gt;</th><th scope=col>&lt;dbl&gt;</th><th scope=col>&lt;dbl&gt;</th><th scope=col>&lt;dbl&gt;</th><th scope=col>&lt;dbl&gt;</th><th scope=col>&lt;int&gt;</th><th scope=col>&lt;dbl&gt;</th><th scope=col>&lt;int&gt;</th><th scope=col>...</th><th scope=col>&lt;int&gt;</th><th scope=col>&lt;int&gt;</th><th scope=col>&lt;int&gt;</th><th scope=col>&lt;int&gt;</th><th scope=col>&lt;int&gt;</th><th scope=col>&lt;int&gt;</th><th scope=col>&lt;int&gt;</th><th scope=col>&lt;int&gt;</th><th scope=col>&lt;int&gt;</th><th scope=col>&lt;int&gt;</th></tr>\n",
       "</thead>\n",
       "<tbody>\n",
       "\t<tr><th scope=row>1</th><td>120</td><td>0.000000000</td><td>0</td><td>0.000000000</td><td>0.000000000</td><td>0</td><td>0.000000000</td><td>73</td><td>0.5</td><td>43</td><td>...</td><td>62</td><td>126</td><td> 2</td><td>0</td><td>120</td><td>137</td><td>121</td><td> 73</td><td>1</td><td>2</td></tr>\n",
       "\t<tr><th scope=row>2</th><td>132</td><td>0.006379585</td><td>0</td><td>0.006379585</td><td>0.003189793</td><td>0</td><td>0.000000000</td><td>17</td><td>2.1</td><td> 0</td><td>...</td><td>68</td><td>198</td><td> 6</td><td>1</td><td>141</td><td>136</td><td>140</td><td> 12</td><td>0</td><td>1</td></tr>\n",
       "\t<tr><th scope=row>3</th><td>133</td><td>0.003322259</td><td>0</td><td>0.008305648</td><td>0.003322259</td><td>0</td><td>0.000000000</td><td>16</td><td>2.1</td><td> 0</td><td>...</td><td>68</td><td>198</td><td> 5</td><td>1</td><td>141</td><td>135</td><td>138</td><td> 13</td><td>0</td><td>1</td></tr>\n",
       "\t<tr><th scope=row>4</th><td>134</td><td>0.002560819</td><td>0</td><td>0.007682458</td><td>0.002560819</td><td>0</td><td>0.000000000</td><td>16</td><td>2.4</td><td> 0</td><td>...</td><td>53</td><td>170</td><td>11</td><td>0</td><td>137</td><td>134</td><td>137</td><td> 13</td><td>1</td><td>1</td></tr>\n",
       "\t<tr><th scope=row>5</th><td>132</td><td>0.006514658</td><td>0</td><td>0.008143322</td><td>0.000000000</td><td>0</td><td>0.000000000</td><td>16</td><td>2.4</td><td> 0</td><td>...</td><td>53</td><td>170</td><td> 9</td><td>0</td><td>137</td><td>136</td><td>138</td><td> 11</td><td>1</td><td>1</td></tr>\n",
       "\t<tr><th scope=row>6</th><td>134</td><td>0.001049318</td><td>0</td><td>0.010493179</td><td>0.009443861</td><td>0</td><td>0.002098636</td><td>26</td><td>5.9</td><td> 0</td><td>...</td><td>50</td><td>200</td><td> 5</td><td>3</td><td> 76</td><td>107</td><td>107</td><td>170</td><td>0</td><td>3</td></tr>\n",
       "</tbody>\n",
       "</table>\n"
      ],
      "text/latex": [
       "A data.frame: 6 × 22\n",
       "\\begin{tabular}{r|lllllllllllllllllllll}\n",
       "  & LB & AC & FM & UC & DL & DS & DP & ASTV & MSTV & ALTV & ... & Min & Max & Nmax & Nzeros & Mode & Mean & Median & Variance & Tendency & NSP\\\\\n",
       "  & <int> & <dbl> & <dbl> & <dbl> & <dbl> & <dbl> & <dbl> & <int> & <dbl> & <int> & ... & <int> & <int> & <int> & <int> & <int> & <int> & <int> & <int> & <int> & <int>\\\\\n",
       "\\hline\n",
       "\t1 & 120 & 0.000000000 & 0 & 0.000000000 & 0.000000000 & 0 & 0.000000000 & 73 & 0.5 & 43 & ... & 62 & 126 &  2 & 0 & 120 & 137 & 121 &  73 & 1 & 2\\\\\n",
       "\t2 & 132 & 0.006379585 & 0 & 0.006379585 & 0.003189793 & 0 & 0.000000000 & 17 & 2.1 &  0 & ... & 68 & 198 &  6 & 1 & 141 & 136 & 140 &  12 & 0 & 1\\\\\n",
       "\t3 & 133 & 0.003322259 & 0 & 0.008305648 & 0.003322259 & 0 & 0.000000000 & 16 & 2.1 &  0 & ... & 68 & 198 &  5 & 1 & 141 & 135 & 138 &  13 & 0 & 1\\\\\n",
       "\t4 & 134 & 0.002560819 & 0 & 0.007682458 & 0.002560819 & 0 & 0.000000000 & 16 & 2.4 &  0 & ... & 53 & 170 & 11 & 0 & 137 & 134 & 137 &  13 & 1 & 1\\\\\n",
       "\t5 & 132 & 0.006514658 & 0 & 0.008143322 & 0.000000000 & 0 & 0.000000000 & 16 & 2.4 &  0 & ... & 53 & 170 &  9 & 0 & 137 & 136 & 138 &  11 & 1 & 1\\\\\n",
       "\t6 & 134 & 0.001049318 & 0 & 0.010493179 & 0.009443861 & 0 & 0.002098636 & 26 & 5.9 &  0 & ... & 50 & 200 &  5 & 3 &  76 & 107 & 107 & 170 & 0 & 3\\\\\n",
       "\\end{tabular}\n"
      ],
      "text/markdown": [
       "\n",
       "A data.frame: 6 × 22\n",
       "\n",
       "| <!--/--> | LB &lt;int&gt; | AC &lt;dbl&gt; | FM &lt;dbl&gt; | UC &lt;dbl&gt; | DL &lt;dbl&gt; | DS &lt;dbl&gt; | DP &lt;dbl&gt; | ASTV &lt;int&gt; | MSTV &lt;dbl&gt; | ALTV &lt;int&gt; | ... ... | Min &lt;int&gt; | Max &lt;int&gt; | Nmax &lt;int&gt; | Nzeros &lt;int&gt; | Mode &lt;int&gt; | Mean &lt;int&gt; | Median &lt;int&gt; | Variance &lt;int&gt; | Tendency &lt;int&gt; | NSP &lt;int&gt; |\n",
       "|---|---|---|---|---|---|---|---|---|---|---|---|---|---|---|---|---|---|---|---|---|---|\n",
       "| 1 | 120 | 0.000000000 | 0 | 0.000000000 | 0.000000000 | 0 | 0.000000000 | 73 | 0.5 | 43 | ... | 62 | 126 |  2 | 0 | 120 | 137 | 121 |  73 | 1 | 2 |\n",
       "| 2 | 132 | 0.006379585 | 0 | 0.006379585 | 0.003189793 | 0 | 0.000000000 | 17 | 2.1 |  0 | ... | 68 | 198 |  6 | 1 | 141 | 136 | 140 |  12 | 0 | 1 |\n",
       "| 3 | 133 | 0.003322259 | 0 | 0.008305648 | 0.003322259 | 0 | 0.000000000 | 16 | 2.1 |  0 | ... | 68 | 198 |  5 | 1 | 141 | 135 | 138 |  13 | 0 | 1 |\n",
       "| 4 | 134 | 0.002560819 | 0 | 0.007682458 | 0.002560819 | 0 | 0.000000000 | 16 | 2.4 |  0 | ... | 53 | 170 | 11 | 0 | 137 | 134 | 137 |  13 | 1 | 1 |\n",
       "| 5 | 132 | 0.006514658 | 0 | 0.008143322 | 0.000000000 | 0 | 0.000000000 | 16 | 2.4 |  0 | ... | 53 | 170 |  9 | 0 | 137 | 136 | 138 |  11 | 1 | 1 |\n",
       "| 6 | 134 | 0.001049318 | 0 | 0.010493179 | 0.009443861 | 0 | 0.002098636 | 26 | 5.9 |  0 | ... | 50 | 200 |  5 | 3 |  76 | 107 | 107 | 170 | 0 | 3 |\n",
       "\n"
      ],
      "text/plain": [
       "  LB  AC          FM UC          DL          DS DP          ASTV MSTV ALTV ...\n",
       "1 120 0.000000000 0  0.000000000 0.000000000 0  0.000000000 73   0.5  43   ...\n",
       "2 132 0.006379585 0  0.006379585 0.003189793 0  0.000000000 17   2.1   0   ...\n",
       "3 133 0.003322259 0  0.008305648 0.003322259 0  0.000000000 16   2.1   0   ...\n",
       "4 134 0.002560819 0  0.007682458 0.002560819 0  0.000000000 16   2.4   0   ...\n",
       "5 132 0.006514658 0  0.008143322 0.000000000 0  0.000000000 16   2.4   0   ...\n",
       "6 134 0.001049318 0  0.010493179 0.009443861 0  0.002098636 26   5.9   0   ...\n",
       "  Min Max Nmax Nzeros Mode Mean Median Variance Tendency NSP\n",
       "1 62  126  2   0      120  137  121     73      1        2  \n",
       "2 68  198  6   1      141  136  140     12      0        1  \n",
       "3 68  198  5   1      141  135  138     13      0        1  \n",
       "4 53  170 11   0      137  134  137     13      1        1  \n",
       "5 53  170  9   0      137  136  138     11      1        1  \n",
       "6 50  200  5   3       76  107  107    170      0        3  "
      ]
     },
     "metadata": {},
     "output_type": "display_data"
    },
    {
     "name": "stdout",
     "output_type": "stream",
     "text": [
      "'data.frame':\t2126 obs. of  22 variables:\n",
      " $ LB      : int  120 132 133 134 132 134 134 122 122 122 ...\n",
      " $ AC      : num  0 0.00638 0.00332 0.00256 0.00651 ...\n",
      " $ FM      : num  0 0 0 0 0 0 0 0 0 0 ...\n",
      " $ UC      : num  0 0.00638 0.00831 0.00768 0.00814 ...\n",
      " $ DL      : num  0 0.00319 0.00332 0.00256 0 ...\n",
      " $ DS      : num  0 0 0 0 0 0 0 0 0 0 ...\n",
      " $ DP      : num  0 0 0 0 0 ...\n",
      " $ ASTV    : int  73 17 16 16 16 26 29 83 84 86 ...\n",
      " $ MSTV    : num  0.5 2.1 2.1 2.4 2.4 5.9 6.3 0.5 0.5 0.3 ...\n",
      " $ ALTV    : int  43 0 0 0 0 0 0 6 5 6 ...\n",
      " $ MLTV    : num  2.4 10.4 13.4 23 19.9 0 0 15.6 13.6 10.6 ...\n",
      " $ Width   : int  64 130 130 117 117 150 150 68 68 68 ...\n",
      " $ Min     : int  62 68 68 53 53 50 50 62 62 62 ...\n",
      " $ Max     : int  126 198 198 170 170 200 200 130 130 130 ...\n",
      " $ Nmax    : int  2 6 5 11 9 5 6 0 0 1 ...\n",
      " $ Nzeros  : int  0 1 1 0 0 3 3 0 0 0 ...\n",
      " $ Mode    : int  120 141 141 137 137 76 71 122 122 122 ...\n",
      " $ Mean    : int  137 136 135 134 136 107 107 122 122 122 ...\n",
      " $ Median  : int  121 140 138 137 138 107 106 123 123 123 ...\n",
      " $ Variance: int  73 12 13 13 11 170 215 3 3 1 ...\n",
      " $ Tendency: int  1 0 0 1 1 0 0 1 1 1 ...\n",
      " $ NSP     : int  2 1 1 1 1 3 3 3 3 3 ...\n"
     ]
    }
   ],
   "source": [
    "head(mydata)\n",
    "str(mydata)"
   ]
  },
  {
   "cell_type": "code",
   "execution_count": 3,
   "metadata": {},
   "outputs": [
    {
     "name": "stdout",
     "output_type": "stream",
     "text": [
      " Factor w/ 3 levels \"1\",\"2\",\"3\": 2 1 1 1 1 3 3 3 3 3 ...\n"
     ]
    }
   ],
   "source": [
    "mydata$NSP <- as.factor(mydata$NSP) # convert the NSP into factor level\n",
    "str(mydata$NSP)"
   ]
  },
  {
   "cell_type": "code",
   "execution_count": 4,
   "metadata": {},
   "outputs": [
    {
     "data": {
      "text/html": [
       "<table class=\"dataframe\">\n",
       "<caption>A data.frame: 6 × 3</caption>\n",
       "<thead>\n",
       "\t<tr><th></th><th scope=col>LB</th><th scope=col>AC</th><th scope=col>FM</th></tr>\n",
       "\t<tr><th></th><th scope=col>&lt;int&gt;</th><th scope=col>&lt;dbl&gt;</th><th scope=col>&lt;dbl&gt;</th></tr>\n",
       "</thead>\n",
       "<tbody>\n",
       "\t<tr><th scope=row>1</th><td>120</td><td>0.000000000</td><td>0</td></tr>\n",
       "\t<tr><th scope=row>2</th><td>132</td><td>0.006379585</td><td>0</td></tr>\n",
       "\t<tr><th scope=row>3</th><td>133</td><td>0.003322259</td><td>0</td></tr>\n",
       "\t<tr><th scope=row>4</th><td>134</td><td>0.002560819</td><td>0</td></tr>\n",
       "\t<tr><th scope=row>5</th><td>132</td><td>0.006514658</td><td>0</td></tr>\n",
       "\t<tr><th scope=row>6</th><td>134</td><td>0.001049318</td><td>0</td></tr>\n",
       "</tbody>\n",
       "</table>\n"
      ],
      "text/latex": [
       "A data.frame: 6 × 3\n",
       "\\begin{tabular}{r|lll}\n",
       "  & LB & AC & FM\\\\\n",
       "  & <int> & <dbl> & <dbl>\\\\\n",
       "\\hline\n",
       "\t1 & 120 & 0.000000000 & 0\\\\\n",
       "\t2 & 132 & 0.006379585 & 0\\\\\n",
       "\t3 & 133 & 0.003322259 & 0\\\\\n",
       "\t4 & 134 & 0.002560819 & 0\\\\\n",
       "\t5 & 132 & 0.006514658 & 0\\\\\n",
       "\t6 & 134 & 0.001049318 & 0\\\\\n",
       "\\end{tabular}\n"
      ],
      "text/markdown": [
       "\n",
       "A data.frame: 6 × 3\n",
       "\n",
       "| <!--/--> | LB &lt;int&gt; | AC &lt;dbl&gt; | FM &lt;dbl&gt; |\n",
       "|---|---|---|---|\n",
       "| 1 | 120 | 0.000000000 | 0 |\n",
       "| 2 | 132 | 0.006379585 | 0 |\n",
       "| 3 | 133 | 0.003322259 | 0 |\n",
       "| 4 | 134 | 0.002560819 | 0 |\n",
       "| 5 | 132 | 0.006514658 | 0 |\n",
       "| 6 | 134 | 0.001049318 | 0 |\n",
       "\n"
      ],
      "text/plain": [
       "  LB  AC          FM\n",
       "1 120 0.000000000 0 \n",
       "2 132 0.006379585 0 \n",
       "3 133 0.003322259 0 \n",
       "4 134 0.002560819 0 \n",
       "5 132 0.006514658 0 \n",
       "6 134 0.001049318 0 "
      ]
     },
     "metadata": {},
     "output_type": "display_data"
    }
   ],
   "source": [
    "# feature selection\n",
    "X <- mydata[,c(1:3)]\n",
    "head(X)"
   ]
  },
  {
   "cell_type": "code",
   "execution_count": 5,
   "metadata": {},
   "outputs": [
    {
     "name": "stdout",
     "output_type": "stream",
     "text": [
      "   [1] 1 1 1 1 1 1 2 1 1 1 1 2 1 1 2 1 1 1 1 1 1 2 1 2 1 1 2 2 1 1 1 2 1 2 1 2 1\n",
      "  [38] 1 2 1 1 2 2 2 1 1 2 2 1 1 1 1 1 1 1 1 1 1 1 1 1 1 2 1 1 1 1 1 1 1 1 1 1 2\n",
      "  [75] 1 1 2 2 2 1 1 1 2 2 1 1 2 1 1 2 2 1 1 1 2 1 1 1 1 2 1 1 1 1 1 1 2 2 1 1 2\n",
      " [112] 2 1 1 2 1 2 2 1 2 1 1 1 1 1 1 2 2 1 1 1 2 2 1 1 1 1 1 1 1 1 1 1 2 1 2 2 1\n",
      " [149] 1 1 1 2 1 1 1 2 2 2 1 1 2 1 1 1 1 1 1 2 2 2 1 1 1 2 2 1 2 1 1 1 1 2 2 1 1\n",
      " [186] 1 1 1 1 2 2 1 1 2 1 1 1 1 1 2 1 2 2 2 1 2 2 1 1 1 1 2 1 1 1 1 2 2 1 1 1 1\n",
      " [223] 1 2 1 1 1 1 1 1 1 1 2 1 1 1 1 2 2 2 1 2 1 2 1 2 1 1 1 1 1 2 1 1 2 2 1 1 1\n",
      " [260] 2 1 2 1 2 2 2 1 1 2 2 1 2 1 1 1 2 1 1 1 1 1 1 1 1 1 1 2 2 1 1 1 1 1 1 1 1\n",
      " [297] 1 2 1 1 2 1 2 1 1 2 1 1 1 2 1 2 1 1 1 1 1 2 1 2 1 1 1 2 1 2 2 1 1 2 1 1 1\n",
      " [334] 1 1 1 1 1 2 1 2 1 1 1 1 1 1 2 1 2 1 1 1 1 1 1 2 1 2 1 1 1 2 1 1 1 1 1 2 2\n",
      " [371] 2 1 1 1 1 1 1 1 1 2 1 1 1 1 2 1 1 1 2 1 1 1 2 1 1 1 1 1 2 1 1 1 1 1 2 1 1\n",
      " [408] 2 2 1 1 1 1 2 1 2 1 2 1 2 2 1 2 2 1 1 1 2 1 1 2 1 1 1 1 2 2 2 1 2 1 1 1 1\n",
      " [445] 1 2 1 1 1 1 1 1 2 2 1 1 2 1 1 1 1 2 2 2 1 2 1 1 1 1 1 1 1 1 2 2 2 1 1 1 1\n",
      " [482] 1 2 1 1 1 1 2 1 1 2 1 1 1 1 1 1 1 2 1 1 2 1 1 1 1 2 1 2 1 1 1 1 1 2 1 1 1\n",
      " [519] 1 2 1 2 1 2 1 1 1 2 2 1 1 2 2 2 1 1 1 1 2 2 1 1 1 2 2 2 1 1 2 2 1 2 1 2 1\n",
      " [556] 2 2 1 1 1 2 1 1 2 2 1 2 1 2 2 1 1 2 1 1 1 2 1 1 1 2 1 1 1 1 2 1 2 1 2 1 1\n",
      " [593] 1 2 2 2 2 1 1 1 1 1 1 1 1 2 1 1 1 1 2 1 1 2 1 1 1 1 1 1 2 2 1 1 1 2 1 2 1\n",
      " [630] 1 1 1 1 1 1 1 1 2 2 1 1 2 2 1 1 1 1 2 1 1 2 1 1 2 2 1 2 2 1 1 1 1 2 2 1 1\n",
      " [667] 1 1 1 2 1 1 1 1 1 1 1 1 1 1 2 1 1 2 1 2 2 2 1 1 2 2 1 1 1 2 2 1 1 2 1 1 2\n",
      " [704] 1 1 1 1 1 2 1 1 2 2 1 1 1 2 1 1 1 1 1 2 1 2 1 2 2 1 1 1 1 1 1 1 1 1 2 2 2\n",
      " [741] 1 2 2 1 2 1 2 1 1 2 1 1 1 1 1 1 1 1 1 2 1 2 1 1 1 1 1 2 1 1 2 1 1 2 1 2 2\n",
      " [778] 1 1 1 1 1 2 1 2 1 1 1 1 2 2 1 1 1 1 1 1 1 1 2 1 1 1 1 2 1 1 2 1 2 2 1 1 2\n",
      " [815] 1 1 2 1 2 1 2 1 1 2 2 2 1 1 1 2 1 1 1 2 1 1 1 1 1 1 1 1 2 1 1 2 2 1 1 1 2\n",
      " [852] 1 1 1 1 2 2 1 1 1 2 1 1 2 2 1 1 2 1 1 2 2 1 1 2 2 2 1 1 2 1 2 1 1 2 1 1 2\n",
      " [889] 2 2 2 2 1 1 1 1 1 1 1 1 1 1 1 1 2 2 1 1 1 1 1 1 1 1 2 1 1 1 1 1 2 1 1 2 1\n",
      " [926] 1 1 2 1 2 1 2 1 1 2 2 1 2 1 2 2 2 1 1 2 2 1 2 1 1 2 2 1 2 2 2 2 1 1 2 1 1\n",
      " [963] 2 1 1 2 1 2 1 2 1 1 1 2 1 2 1 2 1 1 2 2 1 1 2 2 1 1 1 2 1 1 1 2 1 2 1 1 1\n",
      "[1000] 2 1 1 1 1 1 1 1 1 1 2 1 1 2 1 2 1 1 1 1 2 1 2 1 1 2 1 1 1 2 1 2 1 1 2 1 1\n",
      "[1037] 1 1 1 1 1 1 2 2 1 2 2 2 2 1 1 1 1 1 1 1 1 1 2 2 1 2 2 1 1 1 1 1 2 1 1 1 2\n",
      "[1074] 1 1 2 2 1 1 1 2 1 1 1 1 1 1 2 1 1 1 2 2 1 1 2 2 1 1 2 1 2 2 2 1 1 1 2 1 1\n",
      "[1111] 1 1 1 2 1 2 2 2 2 1 2 2 2 1 1 1 1 1 2 2 1 1 1 2 1 1 1 2 1 1 1 1 1 2 2 1 1\n",
      "[1148] 1 1 1 2 1 1 1 2 1 2 2 2 1 1 1 1 1 1 1 2 1 1 1 1 1 1 1 1 2 2 2 1 1 1 1 1 1\n",
      "[1185] 2 1 1 1 2 1 1 1 1 2 1 1 1 1 2 1 2 2 1 1 1 1 2 1 2 2 1 1 2 1 1 1 1 1 1 1 1\n",
      "[1222] 1 1 2 1 1 1 1 1 1 2 1 1 1 1 1 2 1 1 1 2 1 1 1 1 1 2 1 1 1 1 1 2 1 1 2 1 2\n",
      "[1259] 2 1 2 1 2 1 1 1 1 1 2 2 1 2 1 1 2 1 2 1 1 1 1 1 1 1 1 1 2 1 1 1 1 2 1 2 1\n",
      "[1296] 1 1 1 1 1 2 1 1 1 1 2 1 1 1 1 1 1 2 1 2 1 1 2 1 2 1 2 1 1 1 1 2 1 1 1 1 1\n",
      "[1333] 2 2 1 2 1 1 2 1 1 1 1 2 2 1 1 2 1 1 2 1 1 2 1 2 2 1 2 1 2 1 1 2 1 1 1 1 1\n",
      "[1370] 1 1 1 2 1 1 2 2 2 1 1 1 1 1 1 1 1 2 1 2 2 1 2 1 2 1 2 1 1 1 1 1 1 1 2 2 2\n",
      "[1407] 2 1 1 1 2 1 2 1 2 2 2 1 1 1 1 2 1 1 2 1 1 1 1 1 1 2 2 1 1 2 1 2 2 1 2 2 2\n",
      "[1444] 1 1 2 2 1 2 2 1 1 1 1 1 2 1 1 1 1 1 1 2 1 1 2 1 1 1 2 2 2 1 1 1 1 1 2 2 2\n",
      "[1481] 1 2 1 1 1 1 1 1 1 2 2 1 1 2 1 2 1 1 1 1 1 1 1 1 1 1 1 1 1 1 1 1 1 1 2 1 1\n",
      "[1518] 1 1 2 2 1 2 1 2 1 1 1 1 2 1 1 2 1 1 1 1 1 2 1 1 1 1 1 2 1 1 2 2 1 2 1 2 1\n",
      "[1555] 1 1 1 1 2 1 2 1 2 1 2 2 1 1 1 1 1 2 1 1 2 2 1 1 2 1 2 1 1 1 2 2 2 2 1 2 1\n",
      "[1592] 2 2 2 1 1 2 1 2 1 1 1 2 1 1 1 1 2 2 1 1 1 1 1 1 1 1 2 1 1 1 2 2 1 1 2 1 2\n",
      "[1629] 1 1 1 2 1 1 2 2 1 1 1 2 1 1 2 1 2 1 1 2 1 1 1 1 2 1 1 1 1 2 2 2 2 1 2 1 2\n",
      "[1666] 1 1 2 1 1 1 1 2 1 2 1 1 1 2 1 2 1 2 1 2 1 1 2 2 2 2 2 2 1 2 1 2 2 1 1 1 2\n",
      "[1703] 2 1 2 1 1 1 1 1 1 1 2 1 1 1 2 1 1 1 2 1 2 1 1 1 1 1 1 1 2 2 2 1 1 1 1 2 2\n",
      "[1740] 1 1 2 1 2 1 1 1 1 1 2 2 1 2 2 1 2 1 1 1 1 1 2 1 1 1 1 1 1 1 1 1 2 2 2 2 1\n",
      "[1777] 1 2 1 1 2 1 1 1 1 2 2 1 2 1 1 1 1 1 1 1 2 1 2 1 1 1 1 2 1 1 1 1 2 1 1 1 1\n",
      "[1814] 1 2 1 1 2 1 2 1 1 1 1 1 1 1 2 2 1 1 1 2 1 1 1 1 1 1 1 1 1 1 1 1 1 2 1 2 1\n",
      "[1851] 1 1 1 1 1 1 1 1 1 1 1 2 1 2 1 1 1 1 1 1 1 1 2 1 1 1 1 1 1 1 2 2 2 1 1 2 2\n",
      "[1888] 1 1 1 1 2 2 1 2 1 1 1 1 1 1 1 1 1 1 1 2 1 1 2 1 2 1 1 1 2 1 1 2 1 2 2 2 2\n",
      "[1925] 2 2 1 1 2 1 1 1 2 1 2 1 1 1 1 1 1 2 1 1 1 2 2 1 2 1 2 1 1 1 1 2 2 1 1 1 2\n",
      "[1962] 1 2 1 1 1 1 2 1 1 1 1 1 1 2 1 1 2 2 2 1 1 1 1 2 2 1 1 1 1 1 1 1 2 2 1 1 1\n",
      "[1999] 1 1 2 2 2 1 2 1 2 1 2 1 2 1 1 1 2 1 1 1 1 1 1 2 1 1 1 1 1 1 1 1 1 1 1 2 1\n",
      "[2036] 1 1 2 1 1 1 1 1 1 2 1 1 1 1 1 1 1 1 2 1 1 2 1 1 1 2 1 1 2 1 2 1 1 1 1 1 1\n",
      "[2073] 2 1 1 1 1 1 2 1 2 1 2 1 2 2 1 1 1 2 1 1 1 1 1 1 1 1 1 1 1 1 1 2 1 1 2 2 2\n",
      "[2110] 1 1 1 1 2 1 1 2 1 1 1 1 1 1 1 1 2\n"
     ]
    }
   ],
   "source": [
    "# Partition data into training and TEST/validation datasets\n",
    "set.seed(100)\n",
    "# Sample.split(dataset,training set ratio)\n",
    "pred <- sample(2, nrow(mydata), replace = TRUE, prob = c(0.7,0.3))\n",
    "print(pred)\n",
    "train <- mydata[pred == 1,] # all rows in pre column where value is 1\n",
    "test <- mydata[pred == 2,] # all rows in pre column where value is 2"
   ]
  },
  {
   "cell_type": "code",
   "execution_count": null,
   "metadata": {},
   "outputs": [],
   "source": [
    "# Install party package for ctree function\n",
    "library(party)\n",
    "install.packages('party')"
   ]
  },
  {
   "cell_type": "code",
   "execution_count": null,
   "metadata": {},
   "outputs": [],
   "source": [
    "# ctree(Y ~ X, dataset, controls = ctree_control(mincriterion & minsplit))\n",
    "mytree1 <- ctree(NSP ~ LB + AC + FM, data = train, controls = ctree_control(mincriterion = 0.9, minsplit = 50))\n",
    "print(mytree1)\n",
    "plot(mytree1)"
   ]
  },
  {
   "cell_type": "code",
   "execution_count": null,
   "metadata": {},
   "outputs": [],
   "source": [
    "mytree2 <- ctree(NSP ~ ASTV + MSTV, data = train, controls = ctree_control(mincriterion = 0.9, minsplit = 50))\n",
    "plot(mytree2)\n",
    "mytree2_predict = predict(mytree2, test, type=\"prob\") # Prediction on mytree2\n",
    "head(mytree2_predict)\n",
    "tail(mytree2_predict)"
   ]
  },
  {
   "cell_type": "code",
   "execution_count": null,
   "metadata": {},
   "outputs": [],
   "source": [
    "# Misclassification error with test set\n",
    "testmisclas <- predict(mytree1, newdata = test) # predict(model_variable,testset)\n",
    "misclassification <- table(testmisclas, test$NSP)\n",
    "print(misclassification)\n",
    "plot(misclassification)"
   ]
  },
  {
   "cell_type": "code",
   "execution_count": null,
   "metadata": {},
   "outputs": [],
   "source": [
    "# Accuracy calculation\n",
    "Accuracy <- sum(diag(misclassification))/sum(misclassification)\n",
    "Accuracy\n",
    "Error<-1-Accuracy\n",
    "Error"
   ]
  }
 ],
 "metadata": {
  "kernelspec": {
   "display_name": "R",
   "language": "R",
   "name": "ir"
  },
  "language_info": {
   "codemirror_mode": "r",
   "file_extension": ".r",
   "mimetype": "text/x-r-source",
   "name": "R",
   "pygments_lexer": "r",
   "version": "4.0.4"
  },
  "orig_nbformat": 4
 },
 "nbformat": 4,
 "nbformat_minor": 2
}
