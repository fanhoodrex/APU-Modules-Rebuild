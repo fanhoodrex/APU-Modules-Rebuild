{
 "cells": [
  {
   "cell_type": "markdown",
   "metadata": {},
   "source": [
    "Import dataset and inspect the headn and structure "
   ]
  },
  {
   "cell_type": "code",
   "execution_count": 1,
   "metadata": {},
   "outputs": [
    {
     "data": {
      "text/html": [
       "<table class=\"dataframe\">\n",
       "<caption>A data.frame: 6 × 18</caption>\n",
       "<thead>\n",
       "\t<tr><th></th><th scope=col>EmployeeID</th><th scope=col>recorddate_key</th><th scope=col>birthdate_key</th><th scope=col>orighiredate_key</th><th scope=col>terminationdate_key</th><th scope=col>age</th><th scope=col>length_of_service</th><th scope=col>city_name</th><th scope=col>department_name</th><th scope=col>job_title</th><th scope=col>store_name</th><th scope=col>gender_short</th><th scope=col>gender_full</th><th scope=col>termreason_desc</th><th scope=col>termtype_desc</th><th scope=col>STATUS_YEAR</th><th scope=col>STATUS</th><th scope=col>BUSINESS_UNIT</th></tr>\n",
       "\t<tr><th></th><th scope=col>&lt;int&gt;</th><th scope=col>&lt;chr&gt;</th><th scope=col>&lt;chr&gt;</th><th scope=col>&lt;chr&gt;</th><th scope=col>&lt;chr&gt;</th><th scope=col>&lt;int&gt;</th><th scope=col>&lt;int&gt;</th><th scope=col>&lt;chr&gt;</th><th scope=col>&lt;chr&gt;</th><th scope=col>&lt;chr&gt;</th><th scope=col>&lt;int&gt;</th><th scope=col>&lt;chr&gt;</th><th scope=col>&lt;chr&gt;</th><th scope=col>&lt;chr&gt;</th><th scope=col>&lt;chr&gt;</th><th scope=col>&lt;int&gt;</th><th scope=col>&lt;chr&gt;</th><th scope=col>&lt;chr&gt;</th></tr>\n",
       "</thead>\n",
       "<tbody>\n",
       "\t<tr><th scope=row>1</th><td>1318</td><td>12/31/2006 0:00</td><td>1/3/1954</td><td>8/28/1989</td><td>1/1/1900</td><td>52</td><td>17</td><td>Vancouver</td><td>Executive</td><td>CEO</td><td>35</td><td>M</td><td>Male</td><td>Not Applicable</td><td>Not Applicable</td><td>2006</td><td>ACTIVE</td><td>HEADOFFICE</td></tr>\n",
       "\t<tr><th scope=row>2</th><td>1318</td><td>12/31/2007 0:00</td><td>1/3/1954</td><td>8/28/1989</td><td>1/1/1900</td><td>53</td><td>18</td><td>Vancouver</td><td>Executive</td><td>CEO</td><td>35</td><td>M</td><td>Male</td><td>Not Applicable</td><td>Not Applicable</td><td>2007</td><td>ACTIVE</td><td>HEADOFFICE</td></tr>\n",
       "\t<tr><th scope=row>3</th><td>1318</td><td>12/31/2008 0:00</td><td>1/3/1954</td><td>8/28/1989</td><td>1/1/1900</td><td>54</td><td>19</td><td>Vancouver</td><td>Executive</td><td>CEO</td><td>35</td><td>M</td><td>Male</td><td>Not Applicable</td><td>Not Applicable</td><td>2008</td><td>ACTIVE</td><td>HEADOFFICE</td></tr>\n",
       "\t<tr><th scope=row>4</th><td>1318</td><td>12/31/2009 0:00</td><td>1/3/1954</td><td>8/28/1989</td><td>1/1/1900</td><td>55</td><td>20</td><td>Vancouver</td><td>Executive</td><td>CEO</td><td>35</td><td>M</td><td>Male</td><td>Not Applicable</td><td>Not Applicable</td><td>2009</td><td>ACTIVE</td><td>HEADOFFICE</td></tr>\n",
       "\t<tr><th scope=row>5</th><td>1318</td><td>12/31/2010 0:00</td><td>1/3/1954</td><td>8/28/1989</td><td>1/1/1900</td><td>56</td><td>21</td><td>Vancouver</td><td>Executive</td><td>CEO</td><td>35</td><td>M</td><td>Male</td><td>Not Applicable</td><td>Not Applicable</td><td>2010</td><td>ACTIVE</td><td>HEADOFFICE</td></tr>\n",
       "\t<tr><th scope=row>6</th><td>1318</td><td>12/31/2011 0:00</td><td>1/3/1954</td><td>8/28/1989</td><td>1/1/1900</td><td>57</td><td>22</td><td>Vancouver</td><td>Executive</td><td>CEO</td><td>35</td><td>M</td><td>Male</td><td>Not Applicable</td><td>Not Applicable</td><td>2011</td><td>ACTIVE</td><td>HEADOFFICE</td></tr>\n",
       "</tbody>\n",
       "</table>\n"
      ],
      "text/latex": [
       "A data.frame: 6 × 18\n",
       "\\begin{tabular}{r|llllllllllllllllll}\n",
       "  & EmployeeID & recorddate\\_key & birthdate\\_key & orighiredate\\_key & terminationdate\\_key & age & length\\_of\\_service & city\\_name & department\\_name & job\\_title & store\\_name & gender\\_short & gender\\_full & termreason\\_desc & termtype\\_desc & STATUS\\_YEAR & STATUS & BUSINESS\\_UNIT\\\\\n",
       "  & <int> & <chr> & <chr> & <chr> & <chr> & <int> & <int> & <chr> & <chr> & <chr> & <int> & <chr> & <chr> & <chr> & <chr> & <int> & <chr> & <chr>\\\\\n",
       "\\hline\n",
       "\t1 & 1318 & 12/31/2006 0:00 & 1/3/1954 & 8/28/1989 & 1/1/1900 & 52 & 17 & Vancouver & Executive & CEO & 35 & M & Male & Not Applicable & Not Applicable & 2006 & ACTIVE & HEADOFFICE\\\\\n",
       "\t2 & 1318 & 12/31/2007 0:00 & 1/3/1954 & 8/28/1989 & 1/1/1900 & 53 & 18 & Vancouver & Executive & CEO & 35 & M & Male & Not Applicable & Not Applicable & 2007 & ACTIVE & HEADOFFICE\\\\\n",
       "\t3 & 1318 & 12/31/2008 0:00 & 1/3/1954 & 8/28/1989 & 1/1/1900 & 54 & 19 & Vancouver & Executive & CEO & 35 & M & Male & Not Applicable & Not Applicable & 2008 & ACTIVE & HEADOFFICE\\\\\n",
       "\t4 & 1318 & 12/31/2009 0:00 & 1/3/1954 & 8/28/1989 & 1/1/1900 & 55 & 20 & Vancouver & Executive & CEO & 35 & M & Male & Not Applicable & Not Applicable & 2009 & ACTIVE & HEADOFFICE\\\\\n",
       "\t5 & 1318 & 12/31/2010 0:00 & 1/3/1954 & 8/28/1989 & 1/1/1900 & 56 & 21 & Vancouver & Executive & CEO & 35 & M & Male & Not Applicable & Not Applicable & 2010 & ACTIVE & HEADOFFICE\\\\\n",
       "\t6 & 1318 & 12/31/2011 0:00 & 1/3/1954 & 8/28/1989 & 1/1/1900 & 57 & 22 & Vancouver & Executive & CEO & 35 & M & Male & Not Applicable & Not Applicable & 2011 & ACTIVE & HEADOFFICE\\\\\n",
       "\\end{tabular}\n"
      ],
      "text/markdown": [
       "\n",
       "A data.frame: 6 × 18\n",
       "\n",
       "| <!--/--> | EmployeeID &lt;int&gt; | recorddate_key &lt;chr&gt; | birthdate_key &lt;chr&gt; | orighiredate_key &lt;chr&gt; | terminationdate_key &lt;chr&gt; | age &lt;int&gt; | length_of_service &lt;int&gt; | city_name &lt;chr&gt; | department_name &lt;chr&gt; | job_title &lt;chr&gt; | store_name &lt;int&gt; | gender_short &lt;chr&gt; | gender_full &lt;chr&gt; | termreason_desc &lt;chr&gt; | termtype_desc &lt;chr&gt; | STATUS_YEAR &lt;int&gt; | STATUS &lt;chr&gt; | BUSINESS_UNIT &lt;chr&gt; |\n",
       "|---|---|---|---|---|---|---|---|---|---|---|---|---|---|---|---|---|---|---|\n",
       "| 1 | 1318 | 12/31/2006 0:00 | 1/3/1954 | 8/28/1989 | 1/1/1900 | 52 | 17 | Vancouver | Executive | CEO | 35 | M | Male | Not Applicable | Not Applicable | 2006 | ACTIVE | HEADOFFICE |\n",
       "| 2 | 1318 | 12/31/2007 0:00 | 1/3/1954 | 8/28/1989 | 1/1/1900 | 53 | 18 | Vancouver | Executive | CEO | 35 | M | Male | Not Applicable | Not Applicable | 2007 | ACTIVE | HEADOFFICE |\n",
       "| 3 | 1318 | 12/31/2008 0:00 | 1/3/1954 | 8/28/1989 | 1/1/1900 | 54 | 19 | Vancouver | Executive | CEO | 35 | M | Male | Not Applicable | Not Applicable | 2008 | ACTIVE | HEADOFFICE |\n",
       "| 4 | 1318 | 12/31/2009 0:00 | 1/3/1954 | 8/28/1989 | 1/1/1900 | 55 | 20 | Vancouver | Executive | CEO | 35 | M | Male | Not Applicable | Not Applicable | 2009 | ACTIVE | HEADOFFICE |\n",
       "| 5 | 1318 | 12/31/2010 0:00 | 1/3/1954 | 8/28/1989 | 1/1/1900 | 56 | 21 | Vancouver | Executive | CEO | 35 | M | Male | Not Applicable | Not Applicable | 2010 | ACTIVE | HEADOFFICE |\n",
       "| 6 | 1318 | 12/31/2011 0:00 | 1/3/1954 | 8/28/1989 | 1/1/1900 | 57 | 22 | Vancouver | Executive | CEO | 35 | M | Male | Not Applicable | Not Applicable | 2011 | ACTIVE | HEADOFFICE |\n",
       "\n"
      ],
      "text/plain": [
       "  EmployeeID recorddate_key  birthdate_key orighiredate_key terminationdate_key\n",
       "1 1318       12/31/2006 0:00 1/3/1954      8/28/1989        1/1/1900           \n",
       "2 1318       12/31/2007 0:00 1/3/1954      8/28/1989        1/1/1900           \n",
       "3 1318       12/31/2008 0:00 1/3/1954      8/28/1989        1/1/1900           \n",
       "4 1318       12/31/2009 0:00 1/3/1954      8/28/1989        1/1/1900           \n",
       "5 1318       12/31/2010 0:00 1/3/1954      8/28/1989        1/1/1900           \n",
       "6 1318       12/31/2011 0:00 1/3/1954      8/28/1989        1/1/1900           \n",
       "  age length_of_service city_name department_name job_title store_name\n",
       "1 52  17                Vancouver Executive       CEO       35        \n",
       "2 53  18                Vancouver Executive       CEO       35        \n",
       "3 54  19                Vancouver Executive       CEO       35        \n",
       "4 55  20                Vancouver Executive       CEO       35        \n",
       "5 56  21                Vancouver Executive       CEO       35        \n",
       "6 57  22                Vancouver Executive       CEO       35        \n",
       "  gender_short gender_full termreason_desc termtype_desc  STATUS_YEAR STATUS\n",
       "1 M            Male        Not Applicable  Not Applicable 2006        ACTIVE\n",
       "2 M            Male        Not Applicable  Not Applicable 2007        ACTIVE\n",
       "3 M            Male        Not Applicable  Not Applicable 2008        ACTIVE\n",
       "4 M            Male        Not Applicable  Not Applicable 2009        ACTIVE\n",
       "5 M            Male        Not Applicable  Not Applicable 2010        ACTIVE\n",
       "6 M            Male        Not Applicable  Not Applicable 2011        ACTIVE\n",
       "  BUSINESS_UNIT\n",
       "1 HEADOFFICE   \n",
       "2 HEADOFFICE   \n",
       "3 HEADOFFICE   \n",
       "4 HEADOFFICE   \n",
       "5 HEADOFFICE   \n",
       "6 HEADOFFICE   "
      ]
     },
     "metadata": {},
     "output_type": "display_data"
    },
    {
     "name": "stdout",
     "output_type": "stream",
     "text": [
      "'data.frame':\t49653 obs. of  18 variables:\n",
      " $ EmployeeID         : int  1318 1318 1318 1318 1318 1318 1318 1318 1318 1318 ...\n",
      " $ recorddate_key     : chr  \"12/31/2006 0:00\" \"12/31/2007 0:00\" \"12/31/2008 0:00\" \"12/31/2009 0:00\" ...\n",
      " $ birthdate_key      : chr  \"1/3/1954\" \"1/3/1954\" \"1/3/1954\" \"1/3/1954\" ...\n",
      " $ orighiredate_key   : chr  \"8/28/1989\" \"8/28/1989\" \"8/28/1989\" \"8/28/1989\" ...\n",
      " $ terminationdate_key: chr  \"1/1/1900\" \"1/1/1900\" \"1/1/1900\" \"1/1/1900\" ...\n",
      " $ age                : int  52 53 54 55 56 57 58 59 60 61 ...\n",
      " $ length_of_service  : int  17 18 19 20 21 22 23 24 25 26 ...\n",
      " $ city_name          : chr  \"Vancouver\" \"Vancouver\" \"Vancouver\" \"Vancouver\" ...\n",
      " $ department_name    : chr  \"Executive\" \"Executive\" \"Executive\" \"Executive\" ...\n",
      " $ job_title          : chr  \"CEO\" \"CEO\" \"CEO\" \"CEO\" ...\n",
      " $ store_name         : int  35 35 35 35 35 35 35 35 35 35 ...\n",
      " $ gender_short       : chr  \"M\" \"M\" \"M\" \"M\" ...\n",
      " $ gender_full        : chr  \"Male\" \"Male\" \"Male\" \"Male\" ...\n",
      " $ termreason_desc    : chr  \"Not Applicable\" \"Not Applicable\" \"Not Applicable\" \"Not Applicable\" ...\n",
      " $ termtype_desc      : chr  \"Not Applicable\" \"Not Applicable\" \"Not Applicable\" \"Not Applicable\" ...\n",
      " $ STATUS_YEAR        : int  2006 2007 2008 2009 2010 2011 2012 2013 2014 2015 ...\n",
      " $ STATUS             : chr  \"ACTIVE\" \"ACTIVE\" \"ACTIVE\" \"ACTIVE\" ...\n",
      " $ BUSINESS_UNIT      : chr  \"HEADOFFICE\" \"HEADOFFICE\" \"HEADOFFICE\" \"HEADOFFICE\" ...\n"
     ]
    }
   ],
   "source": [
    "attrition_data = read.csv('employee_attrition.csv')\n",
    "head(attrition_data)\n",
    "str(attrition_data)"
   ]
  },
  {
   "cell_type": "markdown",
   "metadata": {},
   "source": [
    "ggplot visualization"
   ]
  },
  {
   "cell_type": "code",
   "execution_count": 3,
   "metadata": {},
   "outputs": [
    {
     "data": {
      "image/png": "[encoded data removed]",
      "text/plain": [
       "plot without title"
      ]
     },
     "metadata": {
      "image/png": {
       "height": 420,
       "width": 420
      }
     },
     "output_type": "display_data"
    }
   ],
   "source": [
    "library(ggplot2)\n",
    "ggplot(data = attrition_data[attrition_data$STATUS == 'TERMINATED',], aes(x = city_name,fill = gender_short)) +\n",
    "  geom_bar() +\n",
    "  theme(axis.text.x = element_text(angle = 45, hjust = 1)) +\n",
    "  ggtitle(\"Figure 1 : Distribution of terminated employees across cities\") +\n",
    "  ylab(\"Count of employees\") +\n",
    "  xlab(\"City Name\")"
   ]
  },
  {
   "cell_type": "code",
   "execution_count": 4,
   "metadata": {},
   "outputs": [
    {
     "data": {
      "image/png": "[encoded data removed]",
      "text/plain": [
       "plot without title"
      ]
     },
     "metadata": {
      "image/png": {
       "height": 420,
       "width": 420
      }
     },
     "output_type": "display_data"
    }
   ],
   "source": [
    "ggplot(data = attrition_data,aes(x=city_name)) +\n",
    "  geom_bar() +\n",
    "  theme(axis.text.x = element_text(angle = 45, hjust = 1)) +\n",
    "  ggtitle(\"Figure 2 : Distribution of all employees across cities\") +\n",
    "  ylab(\"Count of employees\") +\n",
    "  xlab(\"City Name\")"
   ]
  },
  {
   "cell_type": "code",
   "execution_count": 5,
   "metadata": {},
   "outputs": [
    {
     "ename": "ERROR",
     "evalue": "Error in eval(expr, envir, enclos): object 'dataset' not found\n",
     "output_type": "error",
     "traceback": [
      "Error in eval(expr, envir, enclos): object 'dataset' not found\nTraceback:\n"
     ]
    }
   ],
   "source": [
    "# Lists if any changes on ['city_name','department_name','job_title','BUSINESS_UNIT'] for all duplicated EmployeeIDs\n",
    "newDataset = dataset[['EmployeeID', 'city_name', 'department_name', 'job_title', 'BUSINESS_UNIT']]\n",
    "newDataset = newDataset[newDataset.duplicated('EmployeeID', keep = False)]\n",
    "duplicateds = newDataset[newDataset.duplicated(keep ='last')]"
   ]
  },
  {
   "cell_type": "code",
   "execution_count": 6,
   "metadata": {},
   "outputs": [
    {
     "ename": "ERROR",
     "evalue": "Error in parse(text = x, srcfile = src): <text>:2:42: unexpected '['\n1: merged = pd.merge(newDataset,duplicateds, how='outer', indicator=True)\n2: merged.loc[merged._merge == 'left_only', [\n                                            ^\n",
     "output_type": "error",
     "traceback": [
      "Error in parse(text = x, srcfile = src): <text>:2:42: unexpected '['\n1: merged = pd.merge(newDataset,duplicateds, how='outer', indicator=True)\n2: merged.loc[merged._merge == 'left_only', [\n                                            ^\nTraceback:\n"
     ]
    }
   ],
   "source": [
    "merged = pd.merge(newDataset,duplicateds, how='outer', indicator=True)\n",
    "merged.loc[merged._merge == 'left_only', ['EmployeeID']]"
   ]
  },
  {
   "cell_type": "code",
   "execution_count": 7,
   "metadata": {},
   "outputs": [
    {
     "data": {
      "image/png": "[encoded data removed]",
      "text/plain": [
       "plot without title"
      ]
     },
     "metadata": {
      "image/png": {
       "height": 420,
       "width": 420
      }
     },
     "output_type": "display_data"
    }
   ],
   "source": [
    "ggplot(data = attrition_data[attrition_data$STATUS == 'TERMINATED',],aes(x=department_name,fill=gender_short)) +\n",
    "  geom_bar() +\n",
    "  theme(axis.text.x = element_text(angle = 45, hjust = 1)) +\n",
    "  ggtitle(\"Figure 1 : Distribution of terminated employees across departments\") +\n",
    "  ylab(\"Count of employees\") +\n",
    "  xlab(\"Department Name\")"
   ]
  },
  {
   "cell_type": "code",
   "execution_count": 8,
   "metadata": {},
   "outputs": [
    {
     "ename": "ERROR",
     "evalue": "Error in parse(text = x, srcfile = src): <text>:2:29: unexpected symbol\n1: hr_active=hr.copy()\n2: cond=hr_active['EmployeeID'].isin\n                               ^\n",
     "output_type": "error",
     "traceback": [
      "Error in parse(text = x, srcfile = src): <text>:2:29: unexpected symbol\n1: hr_active=hr.copy()\n2: cond=hr_active['EmployeeID'].isin\n                               ^\nTraceback:\n"
     ]
    }
   ],
   "source": [
    "hr_active=hr.copy()\n",
    "cond=hr_active['EmployeeID'].isin(hr_terminated['EmployeeID'])\n",
    "hr_active.drop(hr_active[cond].index, inplace = True)\n",
    "hr_active = hr_active.drop_duplicates(subset = \"EmployeeID\", keep = \"last\",inplace = False).reset_index()"
   ]
  },
  {
   "cell_type": "code",
   "execution_count": 9,
   "metadata": {},
   "outputs": [
    {
     "ename": "ERROR",
     "evalue": "Error in len(dataset[dataset.STATUS == \"TERMINATED\"]): could not find function \"len\"\n",
     "output_type": "error",
     "traceback": [
      "Error in len(dataset[dataset.STATUS == \"TERMINATED\"]): could not find function \"len\"\nTraceback:\n"
     ]
    }
   ],
   "source": [
    "# Checks Active and Terminated columns because we keep last ones\n",
    "statusTerminatedCount = len(dataset[dataset.STATUS == \"TERMINATED\"])\n",
    "statusActiveCount = len(dataset[dataset.STATUS == \"ACTIVE\"])"
   ]
  },
  {
   "cell_type": "code",
   "execution_count": 10,
   "metadata": {},
   "outputs": [
    {
     "ename": "ERROR",
     "evalue": "Error in ggplot(empset): object 'empset' not found\n",
     "output_type": "error",
     "traceback": [
      "Error in ggplot(empset): object 'empset' not found\nTraceback:\n",
      "1. ggplot(empset)"
     ]
    }
   ],
   "source": [
    "ggplot(empset) + geom_bar(aes(x = BUSINESS_UNIT, fill = STATUS))"
   ]
  },
  {
   "cell_type": "code",
   "execution_count": 11,
   "metadata": {},
   "outputs": [
    {
     "ename": "ERROR",
     "evalue": "Error in empset %>% filter(STATUS == \"Employees\"): could not find function \"%>%\"\n",
     "output_type": "error",
     "traceback": [
      "Error in empset %>% filter(STATUS == \"Employees\"): could not find function \"%>%\"\nTraceback:\n"
     ]
    }
   ],
   "source": [
    "TerminateData<- empset %>% filter(STATUS == \"Employees\")"
   ]
  },
  {
   "cell_type": "code",
   "execution_count": 13,
   "metadata": {},
   "outputs": [
    {
     "ename": "ERROR",
     "evalue": "Error in ggplot(TerminateData): object 'TerminateData' not found\n",
     "output_type": "error",
     "traceback": [
      "Error in ggplot(TerminateData): object 'TerminateData' not found\nTraceback:\n",
      "1. ggplot(TerminateData)"
     ]
    }
   ],
   "source": [
    "ggplot(TerminateData)+geom_bar(aes(x=STATUS_YEAR, fill=termtype_desc))\n",
    "ggplot(TerminateData)+geom_bar(aes(x=STATUS_YEAR, fill=termreason_desc))\n",
    "ggplot(TerminateData)+geom_bar(aes(x=as.factor(department_name), fill=as.factor(termreason_desc)))+\n",
    "  theme(axis.text.x = element_text(angle=90, hjust=1,vjust=0.5))\n"
   ]
  },
  {
   "cell_type": "code",
   "execution_count": 14,
   "metadata": {},
   "outputs": [
    {
     "ename": "ERROR",
     "evalue": "Error in library(rattle): there is no package called 'rattle'\n",
     "output_type": "error",
     "traceback": [
      "Error in library(rattle): there is no package called 'rattle'\nTraceback:\n",
      "1. library(rattle)"
     ]
    }
   ],
   "source": [
    "library(rattle)\n",
    "library(magrittr)\n",
    "library(randomForest)\n",
    "crv$seed=42 "
   ]
  },
  {
   "cell_type": "code",
   "execution_count": 15,
   "metadata": {},
   "outputs": [
    {
     "ename": "ERROR",
     "evalue": "Error in set.seed(crv$seed): object 'crv' not found\n",
     "output_type": "error",
     "traceback": [
      "Error in set.seed(crv$seed): object 'crv' not found\nTraceback:\n",
      "1. set.seed(crv$seed)"
     ]
    }
   ],
   "source": [
    "set.seed(crv$seed) \n",
    "empNum <- nrow(empset)\n",
    "empTrain <- subset(empset, STATUS_YEAR < 2015)\n",
    "empTest <- subset(empset, STATUS_YEAR == 2015)"
   ]
  },
  {
   "cell_type": "code",
   "execution_count": 16,
   "metadata": {},
   "outputs": [
    {
     "ename": "ERROR",
     "evalue": "Error in eval(expr, envir, enclos): object 'empTrain' not found\n",
     "output_type": "error",
     "traceback": [
      "Error in eval(expr, envir, enclos): object 'empTrain' not found\nTraceback:\n"
     ]
    }
   ],
   "source": [
    "MYinput= c(\"age\", \"length_of_service\",    \"gender_full\", \"STATUS_YEAR\", \"BUSINESS_UNIT\")\n",
    "MYnumeric= c(\"age\", \"length_of_service\", \"STATUS_YEAR\")\n",
    "MYcategoric = c(\"gender_full\", \"BUSINESS_UNIT\")\n",
    "MYtarget= \"STATUS\"\n",
    "MYident = \"EmployeeID\"\n",
    "MYTrainingData<-empTrain[c(MYinput, MYtarget)]\n",
    "MYTestData<-empTest[c(MYinput, MYtarget)]"
   ]
  },
  {
   "cell_type": "code",
   "execution_count": null,
   "metadata": {},
   "outputs": [],
   "source": [
    "library(rpart)\n",
    "myrpart<-rpart(STATUS~.,\n",
    "               data=empTrain[,c(MYinput,MYtarget)],\n",
    "               method=\"class\",\n",
    "               parms = list(split=\"information\"),\n",
    "               control=rpart.control(usesurrogate = 0, maxsurrogate = 0))\n",
    "myrpart"
   ]
  },
  {
   "cell_type": "code",
   "execution_count": null,
   "metadata": {},
   "outputs": [],
   "source": [
    "sub_col = c('age'\n",
    "            ,'length_of_service'\n",
    "            ,'city_name'\n",
    "            ,'department_name'\n",
    "            ,'job_title'\n",
    "            ,'store_name'\n",
    "            ,'gender_full'\n",
    "            ,'STATUS_YEAR'\n",
    "            ,'BUSINESS_UNIT'\n",
    "            ,'STATUS')\n",
    "attr_data_sub = attrition_data[,sub_col]"
   ]
  },
  {
   "cell_type": "code",
   "execution_count": null,
   "metadata": {},
   "outputs": [],
   "source": [
    "library(caret)\n",
    "## Loading required package: lattice\n",
    "set.seed(123456)\n",
    "attr_data_sub$STATUS01 = ifelse(attr_data_sub$STATUS == 'ACTIVE',1,0)\n",
    "partitionIndex = createDataPartition(attr_data_sub$STATUS01,p = 0.8,list = FALSE)"
   ]
  },
  {
   "cell_type": "code",
   "execution_count": 18,
   "metadata": {},
   "outputs": [
    {
     "ename": "ERROR",
     "evalue": "Error in eval(expr, envir, enclos): object 'attr_data_sub' not found\n",
     "output_type": "error",
     "traceback": [
      "Error in eval(expr, envir, enclos): object 'attr_data_sub' not found\nTraceback:\n"
     ]
    }
   ],
   "source": [
    "attr_data_sub.train = attr_data_sub[partitionIndex,]\n",
    "attr_data_sub.test = attr_data_sub[-partitionIndex,]\n",
    "prop.table(table(attr_data_sub.train$STATUS01))\n",
    "prop.table(table(attr_data_sub.train$STATUS01))"
   ]
  },
  {
   "cell_type": "code",
   "execution_count": 19,
   "metadata": {},
   "outputs": [
    {
     "ename": "ERROR",
     "evalue": "Error in library(\"DMwR\"): there is no package called 'DMwR'\n",
     "output_type": "error",
     "traceback": [
      "Error in library(\"DMwR\"): there is no package called 'DMwR'\nTraceback:\n",
      "1. library(\"DMwR\")"
     ]
    }
   ],
   "source": [
    "library('DMwR')\n",
    "# Loading required package: methods\n",
    "# Loading required package: grid\n",
    "attr_data_sub.train$STATUS01 <- as.factor(attr_data_sub.train$STATUS01)\n",
    "attr_data_sub.train <- SMOTE(STATUS01 ~ ., attr_data_sub.train, perc.over = 100, perc.under=200)\n",
    "prop.table(table(attr_data_sub.train$STATUS01))"
   ]
  },
  {
   "cell_type": "code",
   "execution_count": null,
   "metadata": {},
   "outputs": [],
   "source": [
    "set.seed(123456)\n",
    "full_fit = glm(STATUS01 ~ . -STATUS,family=binomial,data=attr_data_sub.train)\n",
    "summary(full_fit)"
   ]
  },
  {
   "cell_type": "code",
   "execution_count": 20,
   "metadata": {},
   "outputs": [
    {
     "ename": "ERROR",
     "evalue": "Error in predict(full_fit, newdata = attr_data_sub.test, type = \"response\"): object 'full_fit' not found\n",
     "output_type": "error",
     "traceback": [
      "Error in predict(full_fit, newdata = attr_data_sub.test, type = \"response\"): object 'full_fit' not found\nTraceback:\n",
      "1. predict(full_fit, newdata = attr_data_sub.test, type = \"response\")"
     ]
    }
   ],
   "source": [
    "set.seed(123456)\n",
    "attr_data_sub.test$predict = predict(full_fit,newdata = attr_data_sub.test,type = \"response\")\n",
    "attr_data_sub.test$predict_final = ifelse(attr_data_sub.test$predict>0.5,\"ACTIVE\",\"TERMINATED\")\n",
    "table(attr_data_sub.test$STATUS,attr_data_sub.test$predict_final)"
   ]
  },
  {
   "cell_type": "code",
   "execution_count": 21,
   "metadata": {},
   "outputs": [
    {
     "ename": "ERROR",
     "evalue": "Error in library(Metrics): there is no package called 'Metrics'\n",
     "output_type": "error",
     "traceback": [
      "Error in library(Metrics): there is no package called 'Metrics'\nTraceback:\n",
      "1. library(Metrics)"
     ]
    }
   ],
   "source": [
    "library(Metrics)\n",
    "set.seed(123456)\n",
    "pred <- prediction(attr_data_sub.test$predict,attr_data_sub.test$STATUS01)\n",
    "perf <- performance(pred,measure = \"tpr\",x.measure = \"fpr\") \n",
    "plot(perf) > auc(attr_data_sub.test$STATUS01,attr_data_sub.test$predict)"
   ]
  }
 ],
 "metadata": {
  "kernelspec": {
   "display_name": "R",
   "language": "R",
   "name": "ir"
  },
  "language_info": {
   "codemirror_mode": "r",
   "file_extension": ".r",
   "mimetype": "text/x-r-source",
   "name": "R",
   "pygments_lexer": "r",
   "version": "4.0.4"
  },
  "orig_nbformat": 4
 },
 "nbformat": 4,
 "nbformat_minor": 2
}
