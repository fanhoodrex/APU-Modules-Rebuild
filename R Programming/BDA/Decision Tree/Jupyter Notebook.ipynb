{
 "cells": [
  {
   "cell_type": "code",
   "execution_count": null,
   "metadata": {},
   "outputs": [],
   "source": [
    "install.packages('party')\n",
    "library(party)"
   ]
  },
  {
   "cell_type": "code",
   "execution_count": 2,
   "metadata": {},
   "outputs": [],
   "source": [
    "mydata <- read.csv(file.choose())\n",
    "ls()"
   ]
  },
  {
   "cell_type": "code",
   "execution_count": null,
   "metadata": {},
   "outputs": [],
   "source": [
    "head(mydata)\n",
    "str(mydata)"
   ]
  },
  {
   "cell_type": "code",
   "execution_count": 14,
   "metadata": {},
   "outputs": [
    {
     "name": "stdout",
     "output_type": "stream",
     "text": [
      " Factor w/ 3 levels \"1\",\"2\",\"3\": 2 1 1 1 1 3 3 3 3 3 ...\n"
     ]
    }
   ],
   "source": [
    "mydata$NSP <- as.factor(mydata$NSP) # convert the NSP into factor level\n",
    "str(mydata$NSP)"
   ]
  },
  {
   "cell_type": "code",
   "execution_count": 10,
   "metadata": {},
   "outputs": [
    {
     "data": {
      "text/html": [
       "<table class=\"dataframe\">\n",
       "<caption>A data.frame: 6 × 3</caption>\n",
       "<thead>\n",
       "\t<tr><th></th><th scope=col>LB</th><th scope=col>AC</th><th scope=col>FM</th></tr>\n",
       "\t<tr><th></th><th scope=col>&lt;int&gt;</th><th scope=col>&lt;dbl&gt;</th><th scope=col>&lt;dbl&gt;</th></tr>\n",
       "</thead>\n",
       "<tbody>\n",
       "\t<tr><th scope=row>1</th><td>120</td><td>0.000000000</td><td>0</td></tr>\n",
       "\t<tr><th scope=row>2</th><td>132</td><td>0.006379585</td><td>0</td></tr>\n",
       "\t<tr><th scope=row>3</th><td>133</td><td>0.003322259</td><td>0</td></tr>\n",
       "\t<tr><th scope=row>4</th><td>134</td><td>0.002560819</td><td>0</td></tr>\n",
       "\t<tr><th scope=row>5</th><td>132</td><td>0.006514658</td><td>0</td></tr>\n",
       "\t<tr><th scope=row>6</th><td>134</td><td>0.001049318</td><td>0</td></tr>\n",
       "</tbody>\n",
       "</table>\n"
      ],
      "text/latex": [
       "A data.frame: 6 × 3\n",
       "\\begin{tabular}{r|lll}\n",
       "  & LB & AC & FM\\\\\n",
       "  & <int> & <dbl> & <dbl>\\\\\n",
       "\\hline\n",
       "\t1 & 120 & 0.000000000 & 0\\\\\n",
       "\t2 & 132 & 0.006379585 & 0\\\\\n",
       "\t3 & 133 & 0.003322259 & 0\\\\\n",
       "\t4 & 134 & 0.002560819 & 0\\\\\n",
       "\t5 & 132 & 0.006514658 & 0\\\\\n",
       "\t6 & 134 & 0.001049318 & 0\\\\\n",
       "\\end{tabular}\n"
      ],
      "text/markdown": [
       "\n",
       "A data.frame: 6 × 3\n",
       "\n",
       "| <!--/--> | LB &lt;int&gt; | AC &lt;dbl&gt; | FM &lt;dbl&gt; |\n",
       "|---|---|---|---|\n",
       "| 1 | 120 | 0.000000000 | 0 |\n",
       "| 2 | 132 | 0.006379585 | 0 |\n",
       "| 3 | 133 | 0.003322259 | 0 |\n",
       "| 4 | 134 | 0.002560819 | 0 |\n",
       "| 5 | 132 | 0.006514658 | 0 |\n",
       "| 6 | 134 | 0.001049318 | 0 |\n",
       "\n"
      ],
      "text/plain": [
       "  LB  AC          FM\n",
       "1 120 0.000000000 0 \n",
       "2 132 0.006379585 0 \n",
       "3 133 0.003322259 0 \n",
       "4 134 0.002560819 0 \n",
       "5 132 0.006514658 0 \n",
       "6 134 0.001049318 0 "
      ]
     },
     "metadata": {},
     "output_type": "display_data"
    },
    {
     "data": {
      "text/html": [
       "<style>\n",
       ".list-inline {list-style: none; margin:0; padding: 0}\n",
       ".list-inline>li {display: inline-block}\n",
       ".list-inline>li:not(:last-child)::after {content: \"\\00b7\"; padding: 0 .5ex}\n",
       "</style>\n",
       "<ol class=list-inline><li>2</li><li>1</li><li>1</li><li>1</li><li>1</li><li>3</li></ol>\n",
       "\n",
       "<details>\n",
       "\t<summary style=display:list-item;cursor:pointer>\n",
       "\t\t<strong>Levels</strong>:\n",
       "\t</summary>\n",
       "\t<style>\n",
       "\t.list-inline {list-style: none; margin:0; padding: 0}\n",
       "\t.list-inline>li {display: inline-block}\n",
       "\t.list-inline>li:not(:last-child)::after {content: \"\\00b7\"; padding: 0 .5ex}\n",
       "\t</style>\n",
       "\t<ol class=list-inline><li>'1'</li><li>'2'</li><li>'3'</li></ol>\n",
       "</details>"
      ],
      "text/latex": [
       "\\begin{enumerate*}\n",
       "\\item 2\n",
       "\\item 1\n",
       "\\item 1\n",
       "\\item 1\n",
       "\\item 1\n",
       "\\item 3\n",
       "\\end{enumerate*}\n",
       "\n",
       "\\emph{Levels}: \\begin{enumerate*}\n",
       "\\item '1'\n",
       "\\item '2'\n",
       "\\item '3'\n",
       "\\end{enumerate*}\n"
      ],
      "text/markdown": [
       "1. 2\n",
       "2. 1\n",
       "3. 1\n",
       "4. 1\n",
       "5. 1\n",
       "6. 3\n",
       "\n",
       "\n",
       "\n",
       "**Levels**: 1. '1'\n",
       "2. '2'\n",
       "3. '3'\n",
       "\n",
       "\n"
      ],
      "text/plain": [
       "[1] 2 1 1 1 1 3\n",
       "Levels: 1 2 3"
      ]
     },
     "metadata": {},
     "output_type": "display_data"
    }
   ],
   "source": [
    "# feature selection\n",
    "X <- mydata[,c(1:3)]\n",
    "head(X)\n",
    "Y <- mydata$NSP\n",
    "head(Y)"
   ]
  },
  {
   "cell_type": "code",
   "execution_count": 16,
   "metadata": {},
   "outputs": [],
   "source": [
    "# Partition data into training and TEST/validation datasets\n",
    "set.seed(100)\n",
    "# Sample.split(dataset,training set ratio)\n",
    "pred <- sample(2, nrow(mydata), replace = TRUE, prob = c(0.7,0.3))\n",
    "train <- mydata[pred == 1,] # all rows in pre column where value is 1\n",
    "test <- mydata[pred == 2,] # all rows in pre column where value is 2"
   ]
  },
  {
   "cell_type": "code",
   "execution_count": null,
   "metadata": {},
   "outputs": [],
   "source": [
    "# ctree(Y~X,dataset,controls = ctree_control(mincriterion & minsplit))\n",
    "mytree1 <- ctree(NSP ~ LB + AC + FM, data = train, controls = ctree_control(mincriterion = 0.9, minsplit = 50))\n",
    "print(mytree)\n",
    "plot(mytree)"
   ]
  },
  {
   "cell_type": "code",
   "execution_count": null,
   "metadata": {},
   "outputs": [],
   "source": [
    "mytree2 <- ctree(NSP ~ ASTV + MSTV, data = train, controls = ctree_control(mincriterion = 0.9, minsplit = 50))\n",
    "plot(mytree1)\n",
    "predict(mytree,test,type=\"prob\") # Prediction"
   ]
  },
  {
   "cell_type": "code",
   "execution_count": 23,
   "metadata": {},
   "outputs": [
    {
     "name": "stdout",
     "output_type": "stream",
     "text": [
      "           \n",
      "testmisclas   1   2   3\n",
      "          1 470  36  41\n",
      "          2  40  60  12\n",
      "          3   0   0   3\n"
     ]
    },
    {
     "data": {
      "image/png": "[encoded data removed]",
      "text/plain": [
       "Plot with title \"misclassification\""
      ]
     },
     "metadata": {
      "image/png": {
       "height": 420,
       "width": 420
      }
     },
     "output_type": "display_data"
    }
   ],
   "source": [
    "# Misclassification error with test set\n",
    "testmisclas <- predict(mytree, newdata = test) # predict(model_variable,testset)\n",
    "misclassification <- table(testmisclas, test$NSP)\n",
    "print(misclassification)\n",
    "plot(misclassification)"
   ]
  },
  {
   "cell_type": "code",
   "execution_count": 24,
   "metadata": {},
   "outputs": [
    {
     "data": {
      "text/html": [
       "0.805135951661631"
      ],
      "text/latex": [
       "0.805135951661631"
      ],
      "text/markdown": [
       "0.805135951661631"
      ],
      "text/plain": [
       "[1] 0.805136"
      ]
     },
     "metadata": {},
     "output_type": "display_data"
    },
    {
     "data": {
      "text/html": [
       "0.194864048338369"
      ],
      "text/latex": [
       "0.194864048338369"
      ],
      "text/markdown": [
       "0.194864048338369"
      ],
      "text/plain": [
       "[1] 0.194864"
      ]
     },
     "metadata": {},
     "output_type": "display_data"
    }
   ],
   "source": [
    "# Accuracy calculation\n",
    "Accuracy <- sum(diag(misclassification))/sum(misclassification)\n",
    "Accuracy\n",
    "Error<-1-Accuracy\n",
    "Error"
   ]
  }
 ],
 "metadata": {
  "kernelspec": {
   "display_name": "R",
   "language": "R",
   "name": "ir"
  },
  "language_info": {
   "codemirror_mode": "r",
   "file_extension": ".r",
   "mimetype": "text/x-r-source",
   "name": "R",
   "pygments_lexer": "r",
   "version": "4.0.4"
  },
  "orig_nbformat": 4
 },
 "nbformat": 4,
 "nbformat_minor": 2
}
